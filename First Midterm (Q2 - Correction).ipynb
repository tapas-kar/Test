{
 "cells": [
  {
   "cell_type": "code",
   "execution_count": 1,
   "metadata": {},
   "outputs": [],
   "source": [
    "import numpy as np\n",
    "class AdalineGD(object):\n",
    "    def __init__(self, eta=0.01, n_iter=50, random_state=1):\n",
    "        self.eta = eta\n",
    "        self.n_iter = n_iter\n",
    "        self.random_state = random_state\n",
    "        \n",
    "        def fit(self, X, y):\n",
    "            rgen = np.random.RandomState(self.random_state)\n",
    "            self.w_ = rgen.normal(loc=0.0, scale=0.01, size = 1 + X.shape[1])\n",
    "            self.cost_ = []\n",
    "            for i in range(self.n_iter):\n",
    "                cost = 0\n",
    "                for xi, target in zip(X,y):\n",
    "                    net_input = self.net_input(xi)\n",
    "                    output = self.activation(net_input)\n",
    "                    errors = (target - output)\n",
    "                    for z in range(len(xi)):\n",
    "                        self.w_[1+z] += self.eta * errors * xi[z]\n",
    "                        self.w_[0] += self.eta * errors\n",
    "                        cost += (errors**2)/2.0\n",
    "                        self.cost_.append(cost)\n",
    "                        return self\n",
    "                    \n",
    "        def net_input(self, X):\n",
    "            sum_ = 0\n",
    "            for xi in range(len(X)):\n",
    "                sum_ += X[xi] * self.w_[1+xi]\n",
    "            sum_ += self.w_[0]\n",
    "            return sum_\n",
    "            \n",
    "            \n",
    "        def activation(self, X):\n",
    "            return X\n",
    "        \n",
    "        def predict(self, X):\n",
    "            return np.where(self.activation(self.net_input(X)) >= 0.0, 1, -1)"
   ]
  },
  {
   "cell_type": "code",
   "execution_count": 5,
   "metadata": {},
   "outputs": [],
   "source": [
    "import pandas as pd\n",
    "import matplotlib.pyplot as plt\n",
    "import numpy as np\n",
    "\n",
    "iris = pd.read_csv('iris.data', header = None, encoding = 'utf-8')\n",
    "\n",
    "iris.columns = ['Sepal_length', 'Sepal_width', 'Petal_length', 'Petal_width', 'Species']"
   ]
  },
  {
   "cell_type": "code",
   "execution_count": 10,
   "metadata": {},
   "outputs": [],
   "source": [
    "x = iris.loc[:, ['Sepal_width', 'Petal_width']]\n",
    "y = iris.loc[:, 'Species']"
   ]
  },
  {
   "cell_type": "code",
   "execution_count": 11,
   "metadata": {},
   "outputs": [],
   "source": [
    "from sklearn.model_selection import train_test_split\n",
    "x_train, x_test, y_train, y_test = train_test_split(x, y, test_size = 0.7, random_state = 1, stratify = y)"
   ]
  },
  {
   "cell_type": "code",
   "execution_count": null,
   "metadata": {},
   "outputs": [],
   "source": []
  }
 ],
 "metadata": {
  "kernelspec": {
   "display_name": "Python 3",
   "language": "python",
   "name": "python3"
  },
  "language_info": {
   "codemirror_mode": {
    "name": "ipython",
    "version": 3
   },
   "file_extension": ".py",
   "mimetype": "text/x-python",
   "name": "python",
   "nbconvert_exporter": "python",
   "pygments_lexer": "ipython3",
   "version": "3.7.6"
  }
 },
 "nbformat": 4,
 "nbformat_minor": 4
}
