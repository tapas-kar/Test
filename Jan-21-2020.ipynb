{
 "cells": [
  {
   "cell_type": "code",
   "execution_count": 3,
   "metadata": {},
   "outputs": [
    {
     "data": {
      "text/plain": [
       "4"
      ]
     },
     "execution_count": 3,
     "metadata": {},
     "output_type": "execute_result"
    }
   ],
   "source": [
    "my_tuple = (1, 2, 3)\n",
    "my_tuple"
   ]
  },
  {
   "cell_type": "code",
   "execution_count": 14,
   "metadata": {},
   "outputs": [
    {
     "data": {
      "text/plain": [
       "dict_keys(['Patriots', 'Saints', 'RAMS', 'Chiefs'])"
      ]
     },
     "execution_count": 14,
     "metadata": {},
     "output_type": "execute_result"
    }
   ],
   "source": [
    "nfl_playoffs = {\"Patriots\":\"New England\", \"Saints\":\"New Orleans\", \"RAMS\":\"LA\", \"Chiefs\":\"Kansas City\", \"RAMS\":\"Portland\"}\n",
    "nfl_playoffs.keys()"
   ]
  },
  {
   "cell_type": "code",
   "execution_count": 15,
   "metadata": {},
   "outputs": [
    {
     "data": {
      "text/plain": [
       "dict_values(['New England', 'New Orleans', 'Portland', 'Kansas City'])"
      ]
     },
     "execution_count": 15,
     "metadata": {},
     "output_type": "execute_result"
    }
   ],
   "source": [
    "nfl_playoffs.values()"
   ]
  },
  {
   "cell_type": "code",
   "execution_count": 16,
   "metadata": {},
   "outputs": [
    {
     "data": {
      "text/plain": [
       "'New England'"
      ]
     },
     "execution_count": 16,
     "metadata": {},
     "output_type": "execute_result"
    }
   ],
   "source": [
    "nfl_playoffs[\"Patriots\"]"
   ]
  },
  {
   "cell_type": "code",
   "execution_count": 17,
   "metadata": {},
   "outputs": [
    {
     "data": {
      "text/plain": [
       "'Portland'"
      ]
     },
     "execution_count": 17,
     "metadata": {},
     "output_type": "execute_result"
    }
   ],
   "source": [
    "nfl_playoffs[\"RAMS\"]"
   ]
  },
  {
   "cell_type": "code",
   "execution_count": 18,
   "metadata": {},
   "outputs": [
    {
     "data": {
      "text/plain": [
       "{4, 5}"
      ]
     },
     "execution_count": 18,
     "metadata": {},
     "output_type": "execute_result"
    }
   ],
   "source": [
    "my_set2 = {4, 5, 6}\n",
    "my_set1 = {1, 2, 3, 4, 5}\n",
    "my_set2.intersection(my_set1)"
   ]
  },
  {
   "cell_type": "code",
   "execution_count": 25,
   "metadata": {},
   "outputs": [
    {
     "data": {
      "text/plain": [
       "[1, 2, 3, 5, 8, 13]"
      ]
     },
     "execution_count": 25,
     "metadata": {},
     "output_type": "execute_result"
    }
   ],
   "source": [
    "a = [1, 1, 2, 3, 5, 8, 13, 21, 34, 55, 89]\n",
    "b = [1, 2, 3, 4, 5, 6, 7, 8, 9, 10, 11, 12, 13]\n",
    "common_set = list(set(a).intersection(set(b)))\n",
    "common_set"
   ]
  },
  {
   "cell_type": "code",
   "execution_count": 38,
   "metadata": {},
   "outputs": [
    {
     "name": "stdout",
     "output_type": "stream",
     "text": [
      "palindrome\n"
     ]
    }
   ],
   "source": [
    "s1 = \"hannah\"\n",
    "s2 = s1[::-1]\n",
    "if s2 == s1:\n",
    "    print (\"palindrome\")\n",
    "else:\n",
    "    print(\"Not a palindrome\")"
   ]
  },
  {
   "cell_type": "code",
   "execution_count": 39,
   "metadata": {},
   "outputs": [
    {
     "name": "stdout",
     "output_type": "stream",
     "text": [
      "Enter a string: Hey\n",
      "NOT\n"
     ]
    }
   ],
   "source": [
    "str = input(\"Enter a string: \")\n",
    "str = str.lower()\n",
    "length = len(str)\n",
    "flag = True\n",
    "j = -1\n",
    "for x in range (0, length//2):\n",
    "    if (str[x] != str[j]):\n",
    "        flag = False\n",
    "        break;\n",
    "    else:\n",
    "        j -= 1\n",
    "\n",
    "if flag == True:\n",
    "    print(\"palindrome\")\n",
    "else:\n",
    "    print(\"NOT\")"
   ]
  },
  {
   "cell_type": "code",
   "execution_count": 49,
   "metadata": {},
   "outputs": [
    {
     "data": {
      "text/plain": [
       "'Pei'"
      ]
     },
     "execution_count": 49,
     "metadata": {},
     "output_type": "execute_result"
    }
   ],
   "source": [
    "# Extra stuff\n",
    "s1 = \"Pandemonium\"\n",
    "s2 = s1[::4]\n",
    "s2"
   ]
  },
  {
   "cell_type": "code",
   "execution_count": 50,
   "metadata": {},
   "outputs": [
    {
     "name": "stdout",
     "output_type": "stream",
     "text": [
      "Enter a string > garett\n",
      "['t', 't', 'e', 'r', 'a', 'g']\n",
      "Not a palindrome\n"
     ]
    }
   ],
   "source": [
    "s = input(\"Enter a string > \")\n",
    "s = s.lower()\n",
    "chars = list(s)\n",
    "chars.reverse()\n",
    "print(chars)\n",
    "if list(s) == chars:\n",
    "    print(\"Palindrome\")\n",
    "else:\n",
    "    print(\"Not a palindrome\")"
   ]
  },
  {
   "cell_type": "code",
   "execution_count": 51,
   "metadata": {},
   "outputs": [
    {
     "data": {
      "text/plain": [
       "[0, 1, 4, 9, 16]"
      ]
     },
     "execution_count": 51,
     "metadata": {},
     "output_type": "execute_result"
    }
   ],
   "source": [
    "list1 = list(range(5))\n",
    "list2 = [x * x for x in list1]\n",
    "list2"
   ]
  },
  {
   "cell_type": "code",
   "execution_count": 54,
   "metadata": {},
   "outputs": [
    {
     "name": "stdout",
     "output_type": "stream",
     "text": [
      "Enter a number > 30\n"
     ]
    },
    {
     "data": {
      "text/plain": [
       "[45, 85, 100]"
      ]
     },
     "execution_count": 54,
     "metadata": {},
     "output_type": "execute_result"
    }
   ],
   "source": [
    "#Problem 9\n",
    "list2 = [ 1, 2, 3, 4, 5, 10, 15, 20, 25, 45, 85, 100]\n",
    "y = input (\"Enter a number > \")\n",
    "new_list = [x for x in list2 if x > int(y)]\n",
    "new_list"
   ]
  },
  {
   "cell_type": "code",
   "execution_count": 56,
   "metadata": {},
   "outputs": [
    {
     "name": "stdout",
     "output_type": "stream",
     "text": [
      "Enter a number (or q to quit)45\n",
      "Different\n",
      "Enter a number (or q to quit)0\n",
      "Different\n",
      "Enter a number (or q to quit)None\n",
      "Different\n",
      "Enter a number (or q to quit)10\n",
      "Different\n",
      "Enter a number (or q to quit)10\n",
      "Same\n",
      "Enter a number (or q to quit)q\n",
      "Goodbye\n"
     ]
    }
   ],
   "source": [
    "#Problem 14\n",
    "last_num = None\n",
    "while True:\n",
    "    num = input(\"Enter a number (or q to quit)\")\n",
    "    \n",
    "    if num == 'q':\n",
    "        print(\"Goodbye\")\n",
    "        break\n",
    "\n",
    "    if num == last_num:\n",
    "        print(\"Same\")\n",
    "    elif num is not last_num:\n",
    "        print(\"Different\")\n",
    "    \n",
    "    last_num = num"
   ]
  },
  {
   "cell_type": "code",
   "execution_count": 57,
   "metadata": {},
   "outputs": [],
   "source": [
    "def print_details (name = \"John\", age = 35):\n",
    "    \"Prints name and age of a person\"\n",
    "    print(\"Name is {} and age is {}\".format(name, age))"
   ]
  },
  {
   "cell_type": "code",
   "execution_count": 64,
   "metadata": {},
   "outputs": [
    {
     "name": "stdout",
     "output_type": "stream",
     "text": [
      "Name is Tapas and age is 21\n"
     ]
    }
   ],
   "source": [
    "print_details(\"Tapas\", 21)"
   ]
  },
  {
   "cell_type": "code",
   "execution_count": 69,
   "metadata": {},
   "outputs": [],
   "source": [
    "def square (list):\n",
    "    \"\"\"Prints the square of a list items\"\"\" # docstring\n",
    "    square_list = [ x * x for x in list]\n",
    "    return square_list"
   ]
  },
  {
   "cell_type": "code",
   "execution_count": 70,
   "metadata": {},
   "outputs": [
    {
     "data": {
      "text/plain": [
       "[1, 4, 9, 16, 25]"
      ]
     },
     "execution_count": 70,
     "metadata": {},
     "output_type": "execute_result"
    }
   ],
   "source": [
    "square([1, 2, 3, 4, 5])"
   ]
  },
  {
   "cell_type": "code",
   "execution_count": 75,
   "metadata": {},
   "outputs": [],
   "source": [
    "def first_and_last(list1):\n",
    "    new_list = [list1[0], list1[-1]]\n",
    "    return new_list"
   ]
  },
  {
   "cell_type": "code",
   "execution_count": 76,
   "metadata": {},
   "outputs": [
    {
     "data": {
      "text/plain": [
       "[1, 5]"
      ]
     },
     "execution_count": 76,
     "metadata": {},
     "output_type": "execute_result"
    }
   ],
   "source": [
    "first_and_last([1, 2, 3, 4, 5])"
   ]
  },
  {
   "cell_type": "code",
   "execution_count": 80,
   "metadata": {},
   "outputs": [
    {
     "data": {
      "text/plain": [
       "'My string manipulation'"
      ]
     },
     "execution_count": 80,
     "metadata": {},
     "output_type": "execute_result"
    }
   ],
   "source": [
    "s = \"My;string;manipulation\"\n",
    "s_list = s.split(';')\n",
    "' '.join(s_list)"
   ]
  },
  {
   "cell_type": "code",
   "execution_count": 84,
   "metadata": {},
   "outputs": [],
   "source": [
    "import random\n",
    "random.randint(0, 10)\n",
    "random.uniform(1.2, 2.5)\n",
    "random.shuffle([1, 2, 4, 567])"
   ]
  },
  {
   "cell_type": "code",
   "execution_count": null,
   "metadata": {},
   "outputs": [],
   "source": [
    "def random_num ():\n",
    "    while True:\n",
    "        rand_int = random.randint(1, 100)\n",
    "        print(rand_int)\n",
    "        if rand_int = 50:\n",
    "            break\n",
    "    "
   ]
  },
  {
   "cell_type": "code",
   "execution_count": null,
   "metadata": {},
   "outputs": [],
   "source": [
    "random_num()"
   ]
  },
  {
   "cell_type": "code",
   "execution_count": null,
   "metadata": {},
   "outputs": [],
   "source": []
  }
 ],
 "metadata": {
  "kernelspec": {
   "display_name": "Python 3",
   "language": "python",
   "name": "python3"
  },
  "language_info": {
   "codemirror_mode": {
    "name": "ipython",
    "version": 3
   },
   "file_extension": ".py",
   "mimetype": "text/x-python",
   "name": "python",
   "nbconvert_exporter": "python",
   "pygments_lexer": "ipython3",
   "version": "3.7.6"
  }
 },
 "nbformat": 4,
 "nbformat_minor": 2
}
