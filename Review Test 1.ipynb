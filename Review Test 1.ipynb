{
 "cells": [
  {
   "cell_type": "code",
   "execution_count": 9,
   "metadata": {},
   "outputs": [
    {
     "name": "stdout",
     "output_type": "stream",
     "text": [
      "Enter your name: Tapas\n",
      "Enter your age: 21\n",
      "Hello! My name is Tapas. I am 21 years old.\n"
     ]
    }
   ],
   "source": [
    "name = input (\"Enter your name: \")\n",
    "age = int(input(\"Enter your age: \"))\n",
    "\n",
    "print(f\"Hello! My name is {name}. I am {age} years old.\")"
   ]
  },
  {
   "cell_type": "code",
   "execution_count": 10,
   "metadata": {},
   "outputs": [
    {
     "name": "stdout",
     "output_type": "stream",
     "text": [
      "Enter the 1st num > 7\n",
      "Enter the 2nd num > 9\n",
      "The two numbers create the following math. The sum is 16, the difference is 2, the product is 63, the quotient is 0.7777777777777778, and the exponent is 40353607\n"
     ]
    }
   ],
   "source": [
    "num1 = int(input(\"Enter the 1st num > \"))\n",
    "num2 = int(input(\"Enter the 2nd num > \"))\n",
    "\n",
    "sum_ = num1 + num2\n",
    "diff_ = abs((num1 - num2))\n",
    "prod_ = num1 * num2\n",
    "div_ = num1/ num2\n",
    "exponent_ = num1 ** num2\n",
    "\n",
    "print(\"The two numbers create the following math. The sum is {}, the difference is {}, the product is {}, the quotient is {}, and the exponent is {}\".format(sum_, diff_, prod_, div_, exponent_))"
   ]
  },
  {
   "cell_type": "code",
   "execution_count": 14,
   "metadata": {},
   "outputs": [
    {
     "name": "stdout",
     "output_type": "stream",
     "text": [
      "Please enter a temperature in Fahrenheit > 212\n",
      "212 degrees Fahrenheit is 100.0 degrees Celsius \n"
     ]
    }
   ],
   "source": [
    "# Convert a temp in degrees F to degrees C:\n",
    "\n",
    "temp_in_f = int(input(\"Please enter a temperature in Fahrenheit > \"))\n",
    "temp_in_c = 5 * (temp_in_f - 32) / 9\n",
    "print (f\"{temp_in_f} degrees Fahrenheit is {temp_in_c} degrees Celsius \")"
   ]
  },
  {
   "cell_type": "code",
   "execution_count": 16,
   "metadata": {},
   "outputs": [
    {
     "name": "stdout",
     "output_type": "stream",
     "text": [
      "Please enter a name > Megan\n",
      "Please enter your year of birth > 2000\n",
      "Hello Megan! You have lived for 1040 weeks\n"
     ]
    }
   ],
   "source": [
    "# Problem 3\n",
    "\n",
    "name = input(\"Please enter a name > \")\n",
    "year_of_birth = int(input(\"Please enter your year of birth > \"))\n",
    "years_lived = 2020 - year_of_birth\n",
    "years_to_100 = 100 - years_lived\n",
    "print (f\"Hi {name}, You have lived for {weeks_lived} weeks\")"
   ]
  },
  {
   "cell_type": "code",
   "execution_count": 17,
   "metadata": {},
   "outputs": [
    {
     "name": "stdout",
     "output_type": "stream",
     "text": [
      "Enter 1st num > 27\n",
      "Enter 2nd num > 15\n",
      "The quotient is 1.8\n"
     ]
    }
   ],
   "source": [
    "# Problem 4\n",
    "\n",
    "num1 = int(input(\"Enter 1st num > \"))\n",
    "num2 = int(input(\"Enter 2nd num > \"))\n",
    "if num2 == 0:\n",
    "    print(\"Cannot divide by 0 !!\")\n",
    "else:\n",
    "    num3 = num1 / num2\n",
    "    print(f\"The quotient is {num3}\")"
   ]
  },
  {
   "cell_type": "code",
   "execution_count": 19,
   "metadata": {},
   "outputs": [
    {
     "name": "stdout",
     "output_type": "stream",
     "text": [
      "Enter a number whose square root you would like to find31\n",
      "The rounded square root of the number is 5.57\n"
     ]
    }
   ],
   "source": [
    "# Problem 6\n",
    "\n",
    "import math\n",
    "num = int(input(\"Enter a number whose square root you would like to find\"))\n",
    "sqrt_of_num = math.sqrt(num)\n",
    "round_sqrt = round(sqrt_of_num, 2)\n",
    "print(\"The rounded square root of the number is {}\".format(round_sqrt))"
   ]
  },
  {
   "cell_type": "code",
   "execution_count": 23,
   "metadata": {},
   "outputs": [
    {
     "name": "stdout",
     "output_type": "stream",
     "text": [
      "Enter a num > 1\n",
      "Enter b num > 25\n",
      "Enter c num > 15\n",
      "The roots are -0.6151356759952868 and -24.384864324004713\n"
     ]
    }
   ],
   "source": [
    "# Problem 7\n",
    "\n",
    "import math\n",
    "a = int(input(\"Enter a num > \"))\n",
    "b = int(input(\"Enter b num > \"))\n",
    "c = int(input(\"Enter c num > \"))\n",
    "D = math.sqrt(b*b - 4*a*c)\n",
    "if D > 0:\n",
    "    root1 = (-b + math.sqrt(b*b - 4*a*c))/(2*a)\n",
    "    root2 = (-b - math.sqrt(b*b - 4*a*c))/(2*a)\n",
    "    print(f\"The roots are {root1} and {root2}\")\n",
    "else:\n",
    "    print(\"ERROR\")"
   ]
  },
  {
   "cell_type": "code",
   "execution_count": 3,
   "metadata": {},
   "outputs": [
    {
     "name": "stdout",
     "output_type": "stream",
     "text": [
      "100\n"
     ]
    }
   ],
   "source": [
    "# Problem 9\n",
    "\n",
    "list_ = [1, 2, 3, 4, 5, 10, 15, 20, 25, 45, 85, 100]\n",
    "max_num = max(list_)\n",
    "print(max_num)"
   ]
  },
  {
   "cell_type": "code",
   "execution_count": 5,
   "metadata": {},
   "outputs": [
    {
     "name": "stdout",
     "output_type": "stream",
     "text": [
      "[10, 15, 20, 25, 45, 85, 100]\n"
     ]
    }
   ],
   "source": [
    "list_gt_5 = [i for i in list_ if i > 5]\n",
    "print(list_gt_5)"
   ]
  },
  {
   "cell_type": "code",
   "execution_count": 8,
   "metadata": {},
   "outputs": [
    {
     "name": "stdout",
     "output_type": "stream",
     "text": [
      "Please enter a number from the list10\n",
      "[15, 20, 25, 45, 85, 100]\n"
     ]
    }
   ],
   "source": [
    "user_num = int(input(\"Please enter a number from the list\"))\n",
    "user_list = [i for i in list_ if i > user_num]\n",
    "print(user_list)"
   ]
  },
  {
   "cell_type": "code",
   "execution_count": 12,
   "metadata": {},
   "outputs": [
    {
     "name": "stdout",
     "output_type": "stream",
     "text": [
      "[10, 15, 20]\n"
     ]
    }
   ],
   "source": [
    "range_list = [i for i in list_[5:8]]\n",
    "print(range_list)"
   ]
  },
  {
   "cell_type": "code",
   "execution_count": 15,
   "metadata": {},
   "outputs": [
    {
     "name": "stdout",
     "output_type": "stream",
     "text": [
      "Please enter a number of which you would like to know the divisors10\n",
      "{1, 10, 2, 5}\n"
     ]
    }
   ],
   "source": [
    "# Problem 10\n",
    "\n",
    "divisor_list = []\n",
    "user_input1 = int(input(\"Please enter a number of which you would like to know the divisors\"))\n",
    "for i in range (1, int(user_input1 / 2) + 1):\n",
    "    if user_input1 % i == 0:\n",
    "        divisor_list.append(i)\n",
    "        divisor_list.append(user_input1)\n",
    "\n",
    "print(set(divisor_list))"
   ]
  },
  {
   "cell_type": "code",
   "execution_count": 17,
   "metadata": {},
   "outputs": [
    {
     "name": "stdout",
     "output_type": "stream",
     "text": [
      "{1, 2, 3, 5, 8, 13}\n"
     ]
    }
   ],
   "source": [
    "# Problem 11\n",
    "\n",
    "a = [1, 1, 2, 3, 5, 8, 13, 21, 34, 55, 89]\n",
    "b = [1, 2, 3, 4, 5, 6, 7, 8, 9, 10, 11, 12, 13]\n",
    "common_list = []\n",
    "for i in a:\n",
    "    if i in b:\n",
    "        common_list.append(i)\n",
    "        \n",
    "print(set(common_list))"
   ]
  },
  {
   "cell_type": "code",
   "execution_count": 11,
   "metadata": {},
   "outputs": [
    {
     "name": "stdout",
     "output_type": "stream",
     "text": [
      "Please a string > madam\n"
     ]
    },
    {
     "data": {
      "text/plain": [
       "'Yes! It is a palindrome'"
      ]
     },
     "execution_count": 11,
     "metadata": {},
     "output_type": "execute_result"
    }
   ],
   "source": [
    "# Problem 12 (Palindrome check)\n",
    "\n",
    "def palindrome_check():\n",
    "    user_string = input(\"Please a string > \")\n",
    "    for i in range (0, int(len(user_string) / 2)):\n",
    "        if user_string[i].lower() == user_string[-1-i].lower():\n",
    "            return \"Yes! It is a palindrome\"\n",
    "        else:\n",
    "            return \"It is not a palindrome\"\n",
    "        \n",
    "        \n",
    "palindrome_check()"
   ]
  },
  {
   "cell_type": "code",
   "execution_count": 19,
   "metadata": {},
   "outputs": [
    {
     "data": {
      "text/plain": [
       "3"
      ]
     },
     "execution_count": 19,
     "metadata": {},
     "output_type": "execute_result"
    }
   ],
   "source": [
    "my_tuple = (1, 2, 3)\n",
    "\n",
    "# need to convert to a list before making any changes\n",
    "\n",
    "dict_ = {\"Patriots\": \"New England\", \"Saints\": \"New Orleans\", \"RAMS\": \"Los Angeles\"}\n",
    "\n",
    "len(dict_)"
   ]
  },
  {
   "cell_type": "code",
   "execution_count": 17,
   "metadata": {},
   "outputs": [
    {
     "name": "stdout",
     "output_type": "stream",
     "text": [
      "{8, 2}\n"
     ]
    }
   ],
   "source": [
    "s = {2, 4, 6, 8, 10}\n",
    "t = {1, 2, 3, 5, 8, 13}\n",
    "print(s.intersection(t))"
   ]
  },
  {
   "cell_type": "code",
   "execution_count": 1,
   "metadata": {},
   "outputs": [
    {
     "name": "stdout",
     "output_type": "stream",
     "text": [
      "Please enter a number (or q to quit)2\n",
      "Different\n",
      "Please enter a number (or q to quit)2\n",
      "Same\n",
      "Please enter a number (or q to quit)5\n",
      "Different\n",
      "Please enter a number (or q to quit)6\n",
      "Different\n",
      "Please enter a number (or q to quit)6\n",
      "Same\n",
      "Please enter a number (or q to quit)7\n",
      "Different\n",
      "Please enter a number (or q to quit)7\n",
      "Same\n",
      "Please enter a number (or q to quit)8\n",
      "Different\n",
      "Please enter a number (or q to quit)8\n",
      "Same\n",
      "Please enter a number (or q to quit)9\n",
      "Different\n",
      "Please enter a number (or q to quit)q\n",
      "Goodbye\n"
     ]
    }
   ],
   "source": [
    "last_num = None\n",
    "\n",
    "while True:\n",
    "    num = input(\"Please enter a number (or q to quit)\")\n",
    "    \n",
    "    if num == 'q':\n",
    "        print(\"Goodbye\")\n",
    "        break\n",
    "    elif num == last_num:\n",
    "        print(\"Same\")\n",
    "    else:\n",
    "        print (\"Different\")\n",
    "    last_num = num"
   ]
  },
  {
   "cell_type": "code",
   "execution_count": 3,
   "metadata": {},
   "outputs": [
    {
     "name": "stdout",
     "output_type": "stream",
     "text": [
      "Player 1! Enter one of the following R: Rock, P:Paper, S:ScissorsR\n",
      "Player 2! Enter one of the following R: Rock, P:Paper, S:ScissorsP\n",
      "Player 2 wins\n"
     ]
    }
   ],
   "source": [
    "RPS_input1 = input(\"Player 1! Enter one of the following R: Rock, P:Paper, S:Scissors\")\n",
    "\n",
    "RPS_input2 = input(\"Player 2! Enter one of the following R: Rock, P:Paper, S:Scissors\")\n",
    "\n",
    "# Rock and paper\n",
    "if RPS_input1 == 'R' and RPS_input2 == 'P':\n",
    "    print(\"Player 2 wins\")\n",
    "    \n",
    "if RPS_input1 == 'P' and RPS_input2 == 'R':\n",
    "    print(\"Player 1 wins\")\n",
    "\n",
    "# Paper and Scissors\n",
    "if RPS_input1 == 'P' and RPS_input2 == 'S':\n",
    "    print(\"Player 2 wins\")\n",
    "    \n",
    "if RPS_input1 == 'S' and RPS_input2 == 'P':\n",
    "    print(\"Player 1 wins\")\n",
    "\n",
    "# Scissors and Rock\n",
    "if RPS_input1 == 'S' and RPS_input2 == 'R':\n",
    "    print(\"Player 2 wins\")\n",
    "    \n",
    "if RPS_input1 == 'R' and RPS_input2 == 'S':\n",
    "    print(\"Player 1 wins\")"
   ]
  },
  {
   "cell_type": "code",
   "execution_count": 7,
   "metadata": {},
   "outputs": [],
   "source": [
    "# Problem 16\n",
    "\n",
    "def squares (l):\n",
    "    \"Calculates the squares of the elements in list l\"\n",
    "    squares = [i * i for i in l]\n",
    "    return squares"
   ]
  },
  {
   "cell_type": "code",
   "execution_count": 10,
   "metadata": {},
   "outputs": [
    {
     "data": {
      "text/plain": [
       "[625, 100, 225, 400, 625]"
      ]
     },
     "execution_count": 10,
     "metadata": {},
     "output_type": "execute_result"
    }
   ],
   "source": [
    "nums = [25, 10, 15, 20, 25]\n",
    "squares(nums)"
   ]
  },
  {
   "cell_type": "code",
   "execution_count": 11,
   "metadata": {},
   "outputs": [],
   "source": [
    "# Problem 17\n",
    "\n",
    "def first_and_last(l1):\n",
    "    new_list = [l1[0], l1[len(l1) - 1]]\n",
    "    return new_list"
   ]
  },
  {
   "cell_type": "code",
   "execution_count": 12,
   "metadata": {},
   "outputs": [
    {
     "data": {
      "text/plain": [
       "[25, 25]"
      ]
     },
     "execution_count": 12,
     "metadata": {},
     "output_type": "execute_result"
    }
   ],
   "source": [
    "first_and_last(nums)"
   ]
  },
  {
   "cell_type": "code",
   "execution_count": 13,
   "metadata": {},
   "outputs": [],
   "source": [
    "square3 = lambda var:var ** 2"
   ]
  },
  {
   "cell_type": "code",
   "execution_count": 17,
   "metadata": {},
   "outputs": [
    {
     "data": {
      "text/plain": [
       "36"
      ]
     },
     "execution_count": 17,
     "metadata": {},
     "output_type": "execute_result"
    }
   ],
   "source": [
    "square3(6)"
   ]
  },
  {
   "cell_type": "code",
   "execution_count": 18,
   "metadata": {},
   "outputs": [],
   "source": [
    "sum = lambda arg1, arg2: arg1 + arg2"
   ]
  },
  {
   "cell_type": "code",
   "execution_count": 20,
   "metadata": {},
   "outputs": [
    {
     "name": "stdout",
     "output_type": "stream",
     "text": [
      "Value of total:  30\n"
     ]
    }
   ],
   "source": [
    "print(\"Value of total: \", sum(10, 20))"
   ]
  },
  {
   "cell_type": "code",
   "execution_count": 21,
   "metadata": {},
   "outputs": [],
   "source": [
    "cube = lambda cube_arg:cube_arg**3"
   ]
  },
  {
   "cell_type": "code",
   "execution_count": 22,
   "metadata": {},
   "outputs": [
    {
     "data": {
      "text/plain": [
       "8"
      ]
     },
     "execution_count": 22,
     "metadata": {},
     "output_type": "execute_result"
    }
   ],
   "source": [
    "cube(2)"
   ]
  },
  {
   "cell_type": "code",
   "execution_count": 26,
   "metadata": {},
   "outputs": [
    {
     "name": "stdout",
     "output_type": "stream",
     "text": [
      "[15625, 1000, 3375, 8000, 15625]\n"
     ]
    }
   ],
   "source": [
    "print(list(map(cube, nums)))"
   ]
  },
  {
   "cell_type": "code",
   "execution_count": 27,
   "metadata": {},
   "outputs": [],
   "source": [
    "even = lambda even_ints: even_ints % 2 == 0"
   ]
  },
  {
   "cell_type": "code",
   "execution_count": 28,
   "metadata": {},
   "outputs": [],
   "source": [
    "odd = lambda odd_ints: odd_ints % 2 == 1"
   ]
  },
  {
   "cell_type": "code",
   "execution_count": 30,
   "metadata": {},
   "outputs": [
    {
     "name": "stdout",
     "output_type": "stream",
     "text": [
      "[False, True, False, True, False]\n"
     ]
    }
   ],
   "source": [
    "print(list(map(even, nums)))"
   ]
  },
  {
   "cell_type": "code",
   "execution_count": 33,
   "metadata": {},
   "outputs": [
    {
     "data": {
      "text/plain": [
       "[10, 20]"
      ]
     },
     "execution_count": 33,
     "metadata": {},
     "output_type": "execute_result"
    }
   ],
   "source": [
    "list(filter(even, nums))"
   ]
  },
  {
   "cell_type": "code",
   "execution_count": 53,
   "metadata": {},
   "outputs": [],
   "source": [
    "l_and_f = lambda list_2: [list_2[0], list_2[-1]]"
   ]
  },
  {
   "cell_type": "code",
   "execution_count": 54,
   "metadata": {},
   "outputs": [
    {
     "data": {
      "text/plain": [
       "[25, (25, 25)]"
      ]
     },
     "execution_count": 54,
     "metadata": {},
     "output_type": "execute_result"
    }
   ],
   "source": [
    "l_and_f(nums)"
   ]
  },
  {
   "cell_type": "code",
   "execution_count": 57,
   "metadata": {},
   "outputs": [
    {
     "data": {
      "text/plain": [
       "['soup', 'salad']"
      ]
     },
     "execution_count": 57,
     "metadata": {},
     "output_type": "execute_result"
    }
   ],
   "source": [
    "s_lambda = lambda s_word: s_word[0] == 's'\n",
    "\n",
    "# def s_word(s):\n",
    "#     if s[0] == 's':\n",
    "#         return True\n",
    "#     else:\n",
    "#         return False\n",
    "\n",
    "# seq = ['soup', 'dog', 'salad', 'cat', 'great']\n",
    "\n",
    "list(filter(s_lambda, seq))\n"
   ]
  },
  {
   "cell_type": "code",
   "execution_count": 59,
   "metadata": {},
   "outputs": [
    {
     "data": {
      "text/plain": [
       "'My name is John'"
      ]
     },
     "execution_count": 59,
     "metadata": {},
     "output_type": "execute_result"
    }
   ],
   "source": [
    "S1 = \"My name is John\"\n",
    "S1_list = S1.split()\n",
    "' '.join(S1_list)"
   ]
  },
  {
   "cell_type": "code",
   "execution_count": 69,
   "metadata": {},
   "outputs": [
    {
     "data": {
      "text/plain": [
       "['Diego', 'is', 'name', 'My']"
      ]
     },
     "execution_count": 69,
     "metadata": {},
     "output_type": "execute_result"
    }
   ],
   "source": [
    "def backwards_string(s):\n",
    "    split_s = s.split()\n",
    "    new_string = split_s[::-1]\n",
    "    return new_string\n",
    "\n",
    "backwards_string(\"My name is Diego\")"
   ]
  },
  {
   "cell_type": "code",
   "execution_count": 3,
   "metadata": {},
   "outputs": [
    {
     "name": "stdout",
     "output_type": "stream",
     "text": [
      "77\n",
      "68\n",
      "38\n",
      "57\n",
      "23\n",
      "82\n",
      "63\n",
      "72\n",
      "53\n",
      "43\n",
      "59\n",
      "31\n",
      "45\n",
      "14\n",
      "46\n",
      "26\n",
      "18\n",
      "30\n",
      "86\n",
      "68\n",
      "69\n",
      "89\n",
      "7\n",
      "45\n",
      "73\n",
      "90\n",
      "30\n",
      "50\n"
     ]
    }
   ],
   "source": [
    "# Problem 21\n",
    "\n",
    "import random\n",
    "\n",
    "while True:\n",
    "    random_num = random.randint(1, 100)\n",
    "    \n",
    "    print(random_num)\n",
    "    \n",
    "    if random_num == 50:\n",
    "        break\n",
    "\n",
    "    "
   ]
  },
  {
   "cell_type": "code",
   "execution_count": 26,
   "metadata": {},
   "outputs": [
    {
     "name": "stdout",
     "output_type": "stream",
     "text": [
      "<bound method Employees.get_salary of <__main__.Employees object at 0x0000020FE217EBC8>>\n"
     ]
    }
   ],
   "source": [
    "class Employees():\n",
    "    \"\"\"This class represents an employee with three instance variables: name, age, and title\n",
    "    \n",
    "    This class also has a class variable total which keeps count of employees\"\"\"\n",
    "    \n",
    "    total = 0\n",
    "    \n",
    "    def __init__(self, name, age, title, salary):\n",
    "        self.name = name\n",
    "        self.age = age\n",
    "        self.title = title\n",
    "        self.__salary = salary\n",
    "        Employees.total += 1\n",
    "        \n",
    "    def __str__(self):\n",
    "        temp = \"Employee name = \" + self.name + \", age = \" + str(self.age) + \", title = \"\n",
    "        + self.title + \"years to retire = \"\n",
    "            \n",
    "    def get_years_to_retirement(self):\n",
    "        return (65 - self.age)\n",
    "    \n",
    "    def __get_salary(self):\n",
    "        return self.__salary\n",
    "    \n",
    "    def get_salary(self):\n",
    "        return self.__get_salary\n",
    "    \n",
    "    def get_total(self):\n",
    "        return Employee.total\n",
    "    \n",
    "\n",
    "emp1 = Employees(\"John\", 25, \"Senior Manager\", \"500000\")\n",
    "print(emp1.get_salary)\n",
    "        "
   ]
  },
  {
   "cell_type": "code",
   "execution_count": 27,
   "metadata": {},
   "outputs": [],
   "source": [
    "import pandas as pd"
   ]
  },
  {
   "cell_type": "code",
   "execution_count": 29,
   "metadata": {},
   "outputs": [],
   "source": [
    "iris = pd.read_csv('iris.data', header = None, encoding = 'utf-8')"
   ]
  },
  {
   "cell_type": "code",
   "execution_count": 31,
   "metadata": {},
   "outputs": [],
   "source": [
    "iris.columns = ['sepal_length', 'sepal_width', 'petal_length', 'petal_width', 'species' ]"
   ]
  },
  {
   "cell_type": "code",
   "execution_count": 32,
   "metadata": {},
   "outputs": [
    {
     "data": {
      "text/plain": [
       "array(['Iris-setosa', 'Iris-versicolor', 'Iris-virginica'], dtype=object)"
      ]
     },
     "execution_count": 32,
     "metadata": {},
     "output_type": "execute_result"
    }
   ],
   "source": [
    "iris['species'].unique()"
   ]
  },
  {
   "cell_type": "code",
   "execution_count": 33,
   "metadata": {},
   "outputs": [],
   "source": [
    "X = iris.loc[:, ['sepal_length', 'petal_length']]"
   ]
  },
  {
   "cell_type": "code",
   "execution_count": 39,
   "metadata": {},
   "outputs": [
    {
     "data": {
      "text/plain": [
       "numpy.ndarray"
      ]
     },
     "execution_count": 39,
     "metadata": {},
     "output_type": "execute_result"
    }
   ],
   "source": [
    "X;\n",
    "X1 = X.values\n",
    "type(X)\n",
    "type(X1)"
   ]
  },
  {
   "cell_type": "code",
   "execution_count": 40,
   "metadata": {},
   "outputs": [],
   "source": [
    "import matplotlib.pyplot as plt"
   ]
  },
  {
   "cell_type": "code",
   "execution_count": 42,
   "metadata": {},
   "outputs": [
    {
     "data": {
      "image/png": "[encoded data removed]",
      "text/plain": [
       "<Figure size 432x288 with 1 Axes>"
      ]
     },
     "metadata": {
      "needs_background": "light"
     },
     "output_type": "display_data"
    }
   ],
   "source": [
    "plt.scatter(X1[:50, 0], X1[:50, 1], color = 'red', marker = 'o', label = 'setosa')\n",
    "plt.xlabel('sepal length')\n",
    "plt.ylabel('petal length')\n",
    "plt.legend(loc = 'upper left')\n",
    "plt.show()"
   ]
  },
  {
   "cell_type": "code",
   "execution_count": 43,
   "metadata": {},
   "outputs": [
    {
     "data": {
      "text/plain": [
       "pandas.core.frame.DataFrame"
      ]
     },
     "execution_count": 43,
     "metadata": {},
     "output_type": "execute_result"
    }
   ],
   "source": [
    "type(X)"
   ]
  },
  {
   "cell_type": "code",
   "execution_count": 45,
   "metadata": {},
   "outputs": [
    {
     "data": {
      "image/png": "[encoded data removed]",
      "text/plain": [
       "<Figure size 432x288 with 1 Axes>"
      ]
     },
     "metadata": {
      "needs_background": "light"
     },
     "output_type": "display_data"
    }
   ],
   "source": [
    "plt.scatter(X1[:50, 0], X1[:50, 1], color = 'red', marker = 'o', label = 'setosa')\n",
    "plt.scatter(X1[50:100, 0], X1[50:100, 1], color = 'green', marker = 'x', label = 'versicolor')\n",
    "plt.xlabel('sepal length')\n",
    "plt.ylabel('petal length')\n",
    "plt.legend(loc = 'upper left')\n",
    "plt.show()"
   ]
  },
  {
   "cell_type": "code",
   "execution_count": 46,
   "metadata": {},
   "outputs": [],
   "source": [
    "x_train = X[:40]\n",
    "x_train = x_train.append(X[50:90])"
   ]
  },
  {
   "cell_type": "code",
   "execution_count": null,
   "metadata": {},
   "outputs": [],
   "source": [
    "import numpy as np\n",
    "\n",
    "\n",
    "class AdalineGD(object):\n",
    "    \n",
    "    def __init__ (self, eta = 0.01, n_iter = 50, random_state = 1):\n",
    "        self.eta = eta\n",
    "        self.n_iter = n_iter\n",
    "        self.random_state = random_state\n",
    "        \n",
    "    def fit (self, X, y):\n",
    "        rgen = np.random.RandomState(self.random_state)\n",
    "        self.w_ = rgen.normal(loc = 0.0, scale = 0.01, size = 1 +X_train.shape[1])\n",
    "        self.cost_ = []\n",
    "        \n",
    "        for i in range(self.n_iter):\n",
    "            # errors = 0\n",
    "            \n",
    "            for xi, target in zip(X, y):\n",
    "                net_input = self.net_input(xi)\n",
    "                output = self.activation(net_input)\n",
    "                errors = (target - output)\n",
    "                for z in len(xi):\n",
    "                    self.w_[1+z] += self.eta * errors * xi[z]\n",
    "                self.w_[0] += self.eta * errors\n",
    "                cost = (errors ** 2).sum()/2.0\n",
    "            self.cost_.append(errors)\n",
    "            \n",
    "            print(f\"cost = {cost} and iteration = {i}\")\n",
    "            \n",
    "        return self\n",
    "    \n",
    "    def net_input (self, X):\n",
    "        sum_ = 0\n",
    "        for xi in range(len(xi))"
   ]
  }
 ],
 "metadata": {
  "kernelspec": {
   "display_name": "Python 3",
   "language": "python",
   "name": "python3"
  },
  "language_info": {
   "codemirror_mode": {
    "name": "ipython",
    "version": 3
   },
   "file_extension": ".py",
   "mimetype": "text/x-python",
   "name": "python",
   "nbconvert_exporter": "python",
   "pygments_lexer": "ipython3",
   "version": "3.7.6"
  }
 },
 "nbformat": 4,
 "nbformat_minor": 4
}
