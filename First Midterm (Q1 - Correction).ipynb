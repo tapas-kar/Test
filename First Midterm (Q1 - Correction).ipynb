{
 "cells": [
  {
   "cell_type": "code",
   "execution_count": 89,
   "metadata": {},
   "outputs": [],
   "source": [
    "class Student(object):\n",
    "    \n",
    "    def __init__ (self, name, age, semesters, gpa):\n",
    "        self.name = name\n",
    "        self.age = age\n",
    "        self.semesters = semesters\n",
    "        self.gpa = gpa # list of GPAs\n",
    "    \n",
    "    def low_gpa(self):\n",
    "        smallest_gpa = self.gpa[0]\n",
    "        for i in range(len(self.gpa)):\n",
    "            if self.gpa[i] < smallest_gpa:\n",
    "                smallest_gpa = self.gpa[i]\n",
    "        return smallest_gpa\n",
    "    \n",
    "    def high_gpa(self):\n",
    "        highest_gpa = self.gpa[0]\n",
    "        for i in range(len(self.gpa)):\n",
    "            if self.gpa[i] > highest_gpa:\n",
    "                highest_gpa = self.gpa[i]\n",
    "        return highest_gpa\n",
    "    \n",
    "    def average_gpa(self):\n",
    "        total_gpa = 0\n",
    "        for i in range(len(self.gpa)):\n",
    "            total_gpa += self.gpa[i]\n",
    "        average_gpa = total_gpa/self.semesters\n",
    "        return average_gpa"
   ]
  },
  {
   "cell_type": "code",
   "execution_count": 113,
   "metadata": {},
   "outputs": [],
   "source": [
    "s1 = Student(\"John\", 20, 3, [4, 3, 5])\n",
    "s2 = Student(\"Paul\", 21, 5, [3.2, 3.6, 3.7, 3.75, 3.5])\n",
    "s3 = Student(\"Kathy\", 23, 7, [3.28, 3.37, 3.52, 3.65, 3.79, 3.80, 3.75])"
   ]
  },
  {
   "cell_type": "code",
   "execution_count": 91,
   "metadata": {},
   "outputs": [
    {
     "data": {
      "text/plain": [
       "3"
      ]
     },
     "execution_count": 91,
     "metadata": {},
     "output_type": "execute_result"
    }
   ],
   "source": [
    "s1.low_gpa()"
   ]
  },
  {
   "cell_type": "code",
   "execution_count": 92,
   "metadata": {},
   "outputs": [
    {
     "data": {
      "text/plain": [
       "5"
      ]
     },
     "execution_count": 92,
     "metadata": {},
     "output_type": "execute_result"
    }
   ],
   "source": [
    "s1.high_gpa()"
   ]
  },
  {
   "cell_type": "code",
   "execution_count": 93,
   "metadata": {},
   "outputs": [
    {
     "data": {
      "text/plain": [
       "4.0"
      ]
     },
     "execution_count": 93,
     "metadata": {},
     "output_type": "execute_result"
    }
   ],
   "source": [
    "s1.average_gpa()"
   ]
  },
  {
   "cell_type": "code",
   "execution_count": 98,
   "metadata": {},
   "outputs": [
    {
     "name": "stdout",
     "output_type": "stream",
     "text": [
      "3.2 3.75 3.55\n"
     ]
    }
   ],
   "source": [
    "print(s2.low_gpa(), s2.high_gpa(), s2.average_gpa())"
   ]
  },
  {
   "cell_type": "code",
   "execution_count": 130,
   "metadata": {},
   "outputs": [
    {
     "name": "stdout",
     "output_type": "stream",
     "text": [
      "The average gpa of John is <bound method Student.average_gpa of <__main__.Student object at 0x0000024C54C44C48>>\n",
      "The average gpa of Paul is <bound method Student.average_gpa of <__main__.Student object at 0x0000024C54C44D48>>\n",
      "The average gpa of Kathy is <bound method Student.average_gpa of <__main__.Student object at 0x0000024C54C44E08>>\n"
     ]
    }
   ],
   "source": [
    "print(f\"The average gpa of {s1.name} is {s1.average_gpa()}\")\n",
    "print(f\"The average gpa of {s2.name} is {s2.average_gpa()}\")\n",
    "print(f\"The average gpa of {s3.name} is {s3.average_gpa}\")"
   ]
  },
  {
   "cell_type": "code",
   "execution_count": null,
   "metadata": {},
   "outputs": [],
   "source": []
  }
 ],
 "metadata": {
  "kernelspec": {
   "display_name": "Python 3",
   "language": "python",
   "name": "python3"
  },
  "language_info": {
   "codemirror_mode": {
    "name": "ipython",
    "version": 3
   },
   "file_extension": ".py",
   "mimetype": "text/x-python",
   "name": "python",
   "nbconvert_exporter": "python",
   "pygments_lexer": "ipython3",
   "version": "3.7.6"
  }
 },
 "nbformat": 4,
 "nbformat_minor": 4
}
